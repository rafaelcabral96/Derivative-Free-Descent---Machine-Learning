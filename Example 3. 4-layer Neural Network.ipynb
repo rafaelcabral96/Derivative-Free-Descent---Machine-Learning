{
 "cells": [
  {
   "cell_type": "code",
   "execution_count": null,
   "metadata": {},
   "outputs": [],
   "source": [
    "from train import train\n",
    "from neural_networks import full_forward_propagation, get_accuracy_value\n",
    "\n",
    "import numpy as np\n",
    "from sklearn.datasets import make_moons\n",
    "from sklearn.model_selection import train_test_split\n",
    "from sklearn.metrics import accuracy_score\n",
    "\n",
    "\n",
    "random_state=42\n",
    "\n",
    "#DATASET-------------------------------\n",
    "X, y = make_moons(n_samples = 1000, noise=0.2, random_state=100)\n",
    "X_train, X_test, y_train, y_test = train_test_split(X, y, test_size=0.1, random_state=42)\n",
    "\n",
    "#NEURAL NETWORK ARCHITECTURE------------\n",
    "NN_ARCHITECTURE = [\n",
    "    {\"input_dim\": 2, \"output_dim\": 4, \"activation\": \"relu\"},\n",
    "    {\"input_dim\": 4, \"output_dim\": 5, \"activation\": \"relu\"},\n",
    "    {\"input_dim\": 5, \"output_dim\": 4, \"activation\": \"relu\"},\n",
    "    {\"input_dim\": 4, \"output_dim\": 1, \"activation\": \"sigmoid\"},\n",
    "]\n",
    "\n",
    "#HYPERPARAMETERS-----------------------\n",
    "N_nn = 100\n",
    "\n",
    "epochs = 300\n",
    "learning_rate = 0.1\n",
    "var_epsilon = 0\n",
    "\n",
    "method = \"nogradient\"\n",
    "cost_type = \"binary_cross_entropy\"\n",
    "acc_type = 'binary_accuracy'\n",
    "\n",
    "verbose = False\n",
    "\n",
    "batch_size = X_train.shape[0]\n",
    "n_batches  = 1"
   ]
  },
  {
   "cell_type": "markdown",
   "metadata": {},
   "source": [
    "## Derivative Free -> kernel_a = 0.01, gamma1 = 0, gamma2 = 0"
   ]
  },
  {
   "cell_type": "code",
   "execution_count": null,
   "metadata": {},
   "outputs": [],
   "source": [
    "kernel_a = 0.001\n",
    "alpha_init = 0\n",
    "alpha_rate = 0\n",
    "beta = 0\n",
    "gamma = 0\n",
    "\n",
    "#TRAINING\n",
    "params, mean_param = train(np.transpose(X_train), np.transpose(y_train.reshape((y_train.shape[0], 1))), NN_ARCHITECTURE, epochs, learning_rate, method, n_batches, batch_size, cost_type, N_nn, kernel_a, alpha_init, alpha_rate, beta, gamma, verbose, var_epsilon)\n",
    "\n",
    "#TEST SET PREDICTION AND ACCURACY OF THE FIRST PARTICLE\n",
    "Y_test_hat, _ = full_forward_propagation(np.transpose(X_test), params[0], NN_ARCHITECTURE)\n",
    "acc_test = get_accuracy_value(Y_test_hat, np.transpose(y_test.reshape((y_test.shape[0], 1))),\"binary_accuracy\")\n",
    "print(\"Test set accuracy using params[0]: {:.2f}\".format(acc_test))\n",
    "\n",
    "#TEST SET PREDICTION AND ACCURACY OF MEAN TENSOR OF NETWORK\n",
    "Y_test_hat, _ = full_forward_propagation(np.transpose(X_test), mean_param, NN_ARCHITECTURE)\n",
    "acc_test = get_accuracy_value(Y_test_hat.T, y_test, acc_type)\n",
    "print(\"Test set accuracy using mean_param: : {:.5f}\".format(acc_test))"
   ]
  },
  {
   "cell_type": "markdown",
   "metadata": {},
   "source": [
    "## Derivative Free -> kernel_a = 0.01, gamma1 = 0, gamma2 = 0"
   ]
  },
  {
   "cell_type": "code",
   "execution_count": null,
   "metadata": {},
   "outputs": [],
   "source": [
    "kernel_a = 0.01\n",
    "alpha_init = 0\n",
    "alpha_rate = 0\n",
    "beta = 0\n",
    "gamma = 0\n",
    "\n",
    "\n",
    "#TRAINING\n",
    "params, mean_param = train(np.transpose(X_train), np.transpose(y_train.reshape((y_train.shape[0], 1))), NN_ARCHITECTURE, epochs, learning_rate, method, n_batches, batch_size, cost_type, N_nn, kernel_a, alpha_init, alpha_rate, beta, gamma, verbose, var_epsilon)\n",
    "\n",
    "#TEST SET PREDICTION AND ACCURACY OF THE FIRST PARTICLE\n",
    "Y_test_hat, _ = full_forward_propagation(np.transpose(X_test), params[0], NN_ARCHITECTURE)\n",
    "acc_test = get_accuracy_value(Y_test_hat, np.transpose(y_test.reshape((y_test.shape[0], 1))),\"binary_accuracy\")\n",
    "print(\"Test set accuracy using params[0]: {:.2f}\".format(acc_test))\n",
    "\n",
    "#TEST SET PREDICTION AND ACCURACY OF MEAN TENSOR OF NETWORK\n",
    "Y_test_hat, _ = full_forward_propagation(np.transpose(X_test), mean_param, NN_ARCHITECTURE)\n",
    "acc_test = get_accuracy_value(Y_test_hat.T, y_test, acc_type)\n",
    "print(\"Test set accuracy using mean_param: : {:.5f}\".format(acc_test))"
   ]
  },
  {
   "cell_type": "markdown",
   "metadata": {},
   "source": [
    "## Derivative Free -> kernel_a = 0.1, gamma1 = 0, gamma2 = 0"
   ]
  },
  {
   "cell_type": "code",
   "execution_count": null,
   "metadata": {},
   "outputs": [],
   "source": [
    "kernel_a = 0.1\n",
    "alpha_init = 0\n",
    "alpha_rate = 0\n",
    "beta = 0\n",
    "gamma = 0\n",
    "\n",
    "\n",
    "#TRAINING\n",
    "params, mean_param = train(np.transpose(X_train), np.transpose(y_train.reshape((y_train.shape[0], 1))), NN_ARCHITECTURE, epochs, learning_rate, method, n_batches, batch_size, cost_type, N_nn, kernel_a, alpha_init, alpha_rate, beta, gamma, verbose, var_epsilon)\n",
    "\n",
    "#TEST SET PREDICTION AND ACCURACY OF THE FIRST PARTICLE\n",
    "Y_test_hat, _ = full_forward_propagation(np.transpose(X_test), params[0], NN_ARCHITECTURE)\n",
    "acc_test = get_accuracy_value(Y_test_hat, np.transpose(y_test.reshape((y_test.shape[0], 1))),\"binary_accuracy\")\n",
    "print(\"Test set accuracy using params[0]: {:.2f}\".format(acc_test))\n",
    "\n",
    "#TEST SET PREDICTION AND ACCURACY OF MEAN TENSOR OF NETWORK\n",
    "Y_test_hat, _ = full_forward_propagation(np.transpose(X_test), mean_param, NN_ARCHITECTURE)\n",
    "acc_test = get_accuracy_value(Y_test_hat.T, y_test, acc_type)\n",
    "print(\"Test set accuracy using mean_param: : {:.5f}\".format(acc_test))"
   ]
  },
  {
   "cell_type": "markdown",
   "metadata": {},
   "source": [
    "## Derivative Free -> kernel_a = 0.001, gamma1 = 0, gamma2 = t"
   ]
  },
  {
   "cell_type": "code",
   "execution_count": null,
   "metadata": {},
   "outputs": [],
   "source": [
    "kernel_a = 0.01\n",
    "alpha_init = 0\n",
    "alpha_rate = 1\n",
    "beta = 0\n",
    "gamma = 0\n",
    "\n",
    "\n",
    "#TRAINING\n",
    "params, mean_param = train(np.transpose(X_train), np.transpose(y_train.reshape((y_train.shape[0], 1))), NN_ARCHITECTURE, epochs, learning_rate, method, n_batches, batch_size, cost_type, N_nn, kernel_a, alpha_init, alpha_rate, beta, gamma, verbose, var_epsilon)\n",
    "\n",
    "#TEST SET PREDICTION AND ACCURACY OF THE FIRST PARTICLE\n",
    "Y_test_hat, _ = full_forward_propagation(np.transpose(X_test), params[0], NN_ARCHITECTURE)\n",
    "acc_test = get_accuracy_value(Y_test_hat, np.transpose(y_test.reshape((y_test.shape[0], 1))),\"binary_accuracy\")\n",
    "print(\"Test set accuracy using params[0]: {:.2f}\".format(acc_test))\n",
    "\n",
    "#TEST SET PREDICTION AND ACCURACY OF MEAN TENSOR OF NETWORK\n",
    "Y_test_hat, _ = full_forward_propagation(np.transpose(X_test), mean_param, NN_ARCHITECTURE)\n",
    "acc_test = get_accuracy_value(Y_test_hat.T, y_test, acc_type)\n",
    "print(\"Test set accuracy using mean_param: : {:.5f}\".format(acc_test))"
   ]
  },
  {
   "cell_type": "markdown",
   "metadata": {},
   "source": [
    "## Derivative Free -> kernel_a = 0.01, gamma1 = 1, gamma2 = 0"
   ]
  },
  {
   "cell_type": "code",
   "execution_count": null,
   "metadata": {},
   "outputs": [],
   "source": [
    "kernel_a = 0.01\n",
    "alpha_init = 0\n",
    "alpha_rate = 0\n",
    "beta = 0\n",
    "gamma = 1\n",
    "\n",
    "\n",
    "#TRAINING\n",
    "params, mean_param = train(np.transpose(X_train), np.transpose(y_train.reshape((y_train.shape[0], 1))), NN_ARCHITECTURE, epochs, learning_rate, method, n_batches, batch_size, cost_type, N_nn, kernel_a, alpha_init, alpha_rate, beta, gamma, verbose, var_epsilon)\n",
    "\n",
    "#TEST SET PREDICTION AND ACCURACY OF THE FIRST PARTICLE\n",
    "Y_test_hat, _ = full_forward_propagation(np.transpose(X_test), params[0], NN_ARCHITECTURE)\n",
    "acc_test = get_accuracy_value(Y_test_hat, np.transpose(y_test.reshape((y_test.shape[0], 1))),\"binary_accuracy\")\n",
    "print(\"Test set accuracy using params[0]: {:.2f}\".format(acc_test))\n",
    "\n",
    "#TEST SET PREDICTION AND ACCURACY OF MEAN TENSOR OF NETWORK\n",
    "Y_test_hat, _ = full_forward_propagation(np.transpose(X_test), mean_param, NN_ARCHITECTURE)\n",
    "acc_test = get_accuracy_value(Y_test_hat.T, y_test, acc_type)\n",
    "print(\"Test set accuracy using mean_param: : {:.5f}\".format(acc_test))"
   ]
  },
  {
   "cell_type": "markdown",
   "metadata": {},
   "source": [
    "## Derivative Free -> kernel_a = 0.01, gamma1 = 1, gamma2 = t"
   ]
  },
  {
   "cell_type": "code",
   "execution_count": null,
   "metadata": {},
   "outputs": [],
   "source": [
    "kernel_a = 0.01\n",
    "alpha_init = 0\n",
    "alpha_rate = 1\n",
    "beta = 0\n",
    "gamma = 1\n",
    "\n",
    "\n",
    "#TRAINING\n",
    "params, mean_param = train(np.transpose(X_train), np.transpose(y_train.reshape((y_train.shape[0], 1))), NN_ARCHITECTURE, epochs, learning_rate, method, n_batches, batch_size, cost_type, N_nn, kernel_a, alpha_init, alpha_rate, beta, gamma, verbose, var_epsilon)\n",
    "\n",
    "#TEST SET PREDICTION AND ACCURACY OF THE FIRST PARTICLE\n",
    "Y_test_hat, _ = full_forward_propagation(np.transpose(X_test), params[0], NN_ARCHITECTURE)\n",
    "acc_test = get_accuracy_value(Y_test_hat, np.transpose(y_test.reshape((y_test.shape[0], 1))),\"binary_accuracy\")\n",
    "print(\"Test set accuracy using params[0]: {:.2f}\".format(acc_test))\n",
    "\n",
    "#TEST SET PREDICTION AND ACCURACY OF MEAN TENSOR OF NETWORK\n",
    "Y_test_hat, _ = full_forward_propagation(np.transpose(X_test), mean_param, NN_ARCHITECTURE)\n",
    "acc_test = get_accuracy_value(Y_test_hat.T, y_test, acc_type)\n",
    "print(\"Test set accuracy using mean_param: : {:.5f}\".format(acc_test))"
   ]
  },
  {
   "cell_type": "markdown",
   "metadata": {},
   "source": [
    "## NON-DERIVATIVE FREE PARTICLE SWARM ALGORITHM"
   ]
  },
  {
   "cell_type": "code",
   "execution_count": null,
   "metadata": {},
   "outputs": [],
   "source": [
    "method = \"gradient\""
   ]
  },
  {
   "cell_type": "markdown",
   "metadata": {},
   "source": [
    "##  kernel_a = 0.01, alpha = 0, beta = 0"
   ]
  },
  {
   "cell_type": "code",
   "execution_count": null,
   "metadata": {},
   "outputs": [],
   "source": [
    "N_nn = 20\n",
    "kernel_a = 0.001\n",
    "alpha_init = 0\n",
    "alpha_rate = 0\n",
    "beta = 0\n",
    "gamma = 0\n",
    "\n",
    "\n",
    "#TRAINING\n",
    "params, mean_param = train(np.transpose(X_train), np.transpose(y_train.reshape((y_train.shape[0], 1))), NN_ARCHITECTURE, epochs, learning_rate, method, n_batches, batch_size, cost_type, N_nn, kernel_a, alpha_init, alpha_rate, beta, gamma, verbose, var_epsilon)\n",
    "\n",
    "#TEST SET PREDICTION AND ACCURACY OF THE FIRST PARTICLE\n",
    "Y_test_hat, _ = full_forward_propagation(np.transpose(X_test), params[0], NN_ARCHITECTURE)\n",
    "acc_test = get_accuracy_value(Y_test_hat, np.transpose(y_test.reshape((y_test.shape[0], 1))),\"binary_accuracy\")\n",
    "print(\"Test set accuracy using params[0]: {:.2f}\".format(acc_test))\n",
    "\n",
    "#TEST SET PREDICTION AND ACCURACY OF MEAN TENSOR OF NETWORK\n",
    "Y_test_hat, _ = full_forward_propagation(np.transpose(X_test), mean_param, NN_ARCHITECTURE)\n",
    "acc_test = get_accuracy_value(Y_test_hat.T, y_test, acc_type)\n",
    "print(\"Test set accuracy using mean_param: : {:.5f}\".format(acc_test))"
   ]
  },
  {
   "cell_type": "markdown",
   "metadata": {},
   "source": [
    "##  kernel_a = 0.01, alpha = 0, beta = 0"
   ]
  },
  {
   "cell_type": "code",
   "execution_count": null,
   "metadata": {},
   "outputs": [],
   "source": [
    "kernel_a = 0.01\n",
    "alpha_init = 0\n",
    "alpha_rate = 0\n",
    "beta = 0\n",
    "gamma = 0\n",
    "\n",
    "\n",
    "#TRAINING\n",
    "params, mean_param = train(np.transpose(X_train), np.transpose(y_train.reshape((y_train.shape[0], 1))), NN_ARCHITECTURE, epochs, learning_rate, method, n_batches, batch_size, cost_type, N_nn, kernel_a, alpha_init, alpha_rate, beta, gamma, verbose, var_epsilon)\n",
    "\n",
    "#TEST SET PREDICTION AND ACCURACY OF THE FIRST PARTICLE\n",
    "Y_test_hat, _ = full_forward_propagation(np.transpose(X_test), params[0], NN_ARCHITECTURE)\n",
    "acc_test = get_accuracy_value(Y_test_hat, np.transpose(y_test.reshape((y_test.shape[0], 1))),\"binary_accuracy\")\n",
    "print(\"Test set accuracy using params[0]: {:.2f}\".format(acc_test))\n",
    "\n",
    "#TEST SET PREDICTION AND ACCURACY OF MEAN TENSOR OF NETWORK\n",
    "Y_test_hat, _ = full_forward_propagation(np.transpose(X_test), mean_param, NN_ARCHITECTURE)\n",
    "acc_test = get_accuracy_value(Y_test_hat.T, y_test, acc_type)\n",
    "print(\"Test set accuracy using mean_param: : {:.5f}\".format(acc_test))"
   ]
  },
  {
   "cell_type": "markdown",
   "metadata": {},
   "source": [
    "## kernel_a = 0.1, alpha = 0, beta = 0"
   ]
  },
  {
   "cell_type": "code",
   "execution_count": null,
   "metadata": {},
   "outputs": [],
   "source": [
    "kernel_a = 0.1\n",
    "alpha_init = 0\n",
    "alpha_rate = 0\n",
    "beta = 0\n",
    "gamma = 0\n",
    "\n",
    "\n",
    "#TRAINING\n",
    "params, mean_param = train(np.transpose(X_train), np.transpose(y_train.reshape((y_train.shape[0], 1))), NN_ARCHITECTURE, epochs, learning_rate, method, n_batches, batch_size, cost_type, N_nn, kernel_a, alpha_init, alpha_rate, beta, gamma, verbose, var_epsilon)\n",
    "\n",
    "#TEST SET PREDICTION AND ACCURACY OF THE FIRST PARTICLE\n",
    "Y_test_hat, _ = full_forward_propagation(np.transpose(X_test), params[0], NN_ARCHITECTURE)\n",
    "acc_test = get_accuracy_value(Y_test_hat, np.transpose(y_test.reshape((y_test.shape[0], 1))),\"binary_accuracy\")\n",
    "print(\"Test set accuracy using params[0]: {:.2f}\".format(acc_test))\n",
    "\n",
    "#TEST SET PREDICTION AND ACCURACY OF MEAN TENSOR OF NETWORK\n",
    "Y_test_hat, _ = full_forward_propagation(np.transpose(X_test), mean_param, NN_ARCHITECTURE)\n",
    "acc_test = get_accuracy_value(Y_test_hat.T, y_test, acc_type)\n",
    "print(\"Test set accuracy using mean_param: : {:.5f}\".format(acc_test))"
   ]
  },
  {
   "cell_type": "markdown",
   "metadata": {},
   "source": [
    "## kernel_a = 0.001, alpha = t, beta = 0"
   ]
  },
  {
   "cell_type": "code",
   "execution_count": null,
   "metadata": {},
   "outputs": [],
   "source": [
    "kernel_a = 0.01\n",
    "alpha_init = 0\n",
    "alpha_rate = 1\n",
    "beta = 0\n",
    "gamma = 0\n",
    "\n",
    "\n",
    "#TRAINING\n",
    "params, mean_param = train(np.transpose(X_train), np.transpose(y_train.reshape((y_train.shape[0], 1))), NN_ARCHITECTURE, epochs, learning_rate, method, n_batches, batch_size, cost_type, N_nn, kernel_a, alpha_init, alpha_rate, beta, gamma, verbose, var_epsilon)\n",
    "\n",
    "#TEST SET PREDICTION AND ACCURACY OF THE FIRST PARTICLE\n",
    "Y_test_hat, _ = full_forward_propagation(np.transpose(X_test), params[0], NN_ARCHITECTURE)\n",
    "acc_test = get_accuracy_value(Y_test_hat, np.transpose(y_test.reshape((y_test.shape[0], 1))),\"binary_accuracy\")\n",
    "print(\"Test set accuracy using params[0]: {:.2f}\".format(acc_test))\n",
    "\n",
    "#TEST SET PREDICTION AND ACCURACY OF MEAN TENSOR OF NETWORK\n",
    "Y_test_hat, _ = full_forward_propagation(np.transpose(X_test), mean_param, NN_ARCHITECTURE)\n",
    "acc_test = get_accuracy_value(Y_test_hat.T, y_test, acc_type)\n",
    "print(\"Test set accuracy using mean_param: : {:.5f}\".format(acc_test))"
   ]
  },
  {
   "cell_type": "markdown",
   "metadata": {},
   "source": [
    "##  kernel_a = 0.01, alpha = 0, beta = 1"
   ]
  },
  {
   "cell_type": "code",
   "execution_count": null,
   "metadata": {},
   "outputs": [],
   "source": [
    "kernel_a = 0.01\n",
    "alpha_init = 0\n",
    "alpha_rate = 0\n",
    "beta = 1\n",
    "gamma = 0\n",
    "\n",
    "\n",
    "#TRAINING\n",
    "params, mean_param = train(np.transpose(X_train), np.transpose(y_train.reshape((y_train.shape[0], 1))), NN_ARCHITECTURE, epochs, learning_rate, method, n_batches, batch_size, cost_type, N_nn, kernel_a, alpha_init, alpha_rate, beta, gamma, verbose, var_epsilon)\n",
    "\n",
    "#TEST SET PREDICTION AND ACCURACY OF THE FIRST PARTICLE\n",
    "Y_test_hat, _ = full_forward_propagation(np.transpose(X_test), params[0], NN_ARCHITECTURE)\n",
    "acc_test = get_accuracy_value(Y_test_hat, np.transpose(y_test.reshape((y_test.shape[0], 1))),\"binary_accuracy\")\n",
    "print(\"Test set accuracy using params[0]: {:.2f}\".format(acc_test))\n",
    "\n",
    "#TEST SET PREDICTION AND ACCURACY OF MEAN TENSOR OF NETWORK\n",
    "Y_test_hat, _ = full_forward_propagation(np.transpose(X_test), mean_param, NN_ARCHITECTURE)\n",
    "acc_test = get_accuracy_value(Y_test_hat.T, y_test, acc_type)\n",
    "print(\"Test set accuracy using mean_param: : {:.5f}\".format(acc_test))"
   ]
  },
  {
   "cell_type": "markdown",
   "metadata": {},
   "source": [
    "## kernel_a = 0.01, alpha = t, beta = 1"
   ]
  },
  {
   "cell_type": "code",
   "execution_count": null,
   "metadata": {},
   "outputs": [],
   "source": [
    "kernel_a = 0.01\n",
    "alpha_init = 0\n",
    "alpha_rate = 1\n",
    "beta = 1\n",
    "gamma = 0\n",
    "\n",
    "\n",
    "#TRAINING\n",
    "params, mean_param = train(np.transpose(X_train), np.transpose(y_train.reshape((y_train.shape[0], 1))), NN_ARCHITECTURE, epochs, learning_rate, method, n_batches, batch_size, cost_type, N_nn, kernel_a, alpha_init, alpha_rate, beta, gamma, verbose, var_epsilon)\n",
    "\n",
    "#TEST SET PREDICTION AND ACCURACY OF THE FIRST PARTICLE\n",
    "Y_test_hat, _ = full_forward_propagation(np.transpose(X_test), params[0], NN_ARCHITECTURE)\n",
    "acc_test = get_accuracy_value(Y_test_hat, np.transpose(y_test.reshape((y_test.shape[0], 1))),\"binary_accuracy\")\n",
    "print(\"Test set accuracy using params[0]: {:.2f}\".format(acc_test))\n",
    "\n",
    "#TEST SET PREDICTION AND ACCURACY OF MEAN TENSOR OF NETWORK\n",
    "Y_test_hat, _ = full_forward_propagation(np.transpose(X_test), mean_param, NN_ARCHITECTURE)\n",
    "acc_test = get_accuracy_value(Y_test_hat.T, y_test, acc_type)\n",
    "print(\"Test set accuracy using mean_param: : {:.5f}\".format(acc_test))"
   ]
  },
  {
   "cell_type": "markdown",
   "metadata": {},
   "source": [
    "## Gradient Descent (N_nn=1)"
   ]
  },
  {
   "cell_type": "code",
   "execution_count": null,
   "metadata": {},
   "outputs": [],
   "source": [
    "method = \"sgd\"\n",
    "\n",
    "#TRAINING\n",
    "params, mean_param = train(np.transpose(X_train), np.transpose(y_train.reshape((y_train.shape[0], 1))), NN_ARCHITECTURE, epochs, learning_rate, method, n_batches, batch_size, cost_type, N_nn, kernel_a, alpha_init, alpha_rate, beta, gamma, verbose, var_epsilon)\n",
    "\n",
    "#TEST SET PREDICTION AND ACCURACY OF THE FIRST PARTICLE\n",
    "Y_test_hat, _ = full_forward_propagation(np.transpose(X_test), params[0], NN_ARCHITECTURE)\n",
    "acc_test = get_accuracy_value(Y_test_hat, np.transpose(y_test.reshape((y_test.shape[0], 1))),\"binary_accuracy\")\n",
    "print(\"Test set accuracy using params[0]: {:.2f}\".format(acc_test))\n",
    "\n",
    "#TEST SET PREDICTION AND ACCURACY OF MEAN TENSOR OF NETWORK\n",
    "Y_test_hat, _ = full_forward_propagation(np.transpose(X_test), mean_param, NN_ARCHITECTURE)\n",
    "acc_test = get_accuracy_value(Y_test_hat.T, y_test, acc_type)\n",
    "print(\"Test set accuracy using mean_param: : {:.5f}\".format(acc_test))"
   ]
  }
 ],
 "metadata": {
  "kernelspec": {
   "display_name": "Python 3",
   "language": "python",
   "name": "python3"
  },
  "language_info": {
   "codemirror_mode": {
    "name": "ipython",
    "version": 3
   },
   "file_extension": ".py",
   "mimetype": "text/x-python",
   "name": "python",
   "nbconvert_exporter": "python",
   "pygments_lexer": "ipython3",
   "version": "3.7.1"
  }
 },
 "nbformat": 4,
 "nbformat_minor": 2
}
