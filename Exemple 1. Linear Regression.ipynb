{
 "cells": [
  {
   "cell_type": "code",
   "execution_count": null,
   "metadata": {},
   "outputs": [],
   "source": [
    "from train import train\n",
    "from neural_networks import full_forward_propagation, get_accuracy_value\n",
    "\n",
    "import numpy as np\n",
    "from sklearn.model_selection import train_test_split\n",
    "from sklearn.metrics import accuracy_score\n",
    "\n",
    "random_state=42\n",
    "\n",
    "#DATASET-------------------------------\n",
    "x_batch = np.linspace(0, 2, 500)\n",
    "y_batch = 1.5 * x_batch + np.random.randn(*x_batch.shape) * 0.5 + 0.5 \n",
    "\n",
    "x_batch.resize((500,1))\n",
    "y_batch.resize((500,1))\n",
    "X_train, X_test, y_train, y_test = train_test_split(x_batch, y_batch, test_size=0.1, random_state=random_state)\n",
    "\n",
    "\n",
    "#NEURAL NETWORK ARCHITECTURE------------\n",
    "NN_ARCHITECTURE = [\n",
    "    {\"input_dim\": 1, \"output_dim\": 1, \"activation\": \"linear\"}\n",
    "]\n",
    "\n",
    "#HYPERPARAMETERS-----------------------\n",
    "N_nn = 5\n",
    "\n",
    "epochs = 300\n",
    "learning_rate = 0.1\n",
    "var_epsilon = 0\n",
    "\n",
    "method = \"nogradient\"\n",
    "cost_type = 'rmse'\n",
    "acc_type = 'rmse'\n",
    "\n",
    "verbose = False\n",
    "\n",
    "batch_size = X_train.shape[0]\n",
    "n_batches  = 1"
   ]
  },
  {
   "cell_type": "markdown",
   "metadata": {},
   "source": [
    "## Derivative Free -> kernel_a = 0.01, gamma1 = 0, gamma2 = 0"
   ]
  },
  {
   "cell_type": "code",
   "execution_count": null,
   "metadata": {},
   "outputs": [],
   "source": [
    "kernel_a = 0.001\n",
    "alpha_init = 0\n",
    "alpha_rate = 0\n",
    "beta = 0\n",
    "gamma = 0\n",
    "\n",
    "\n",
    "#Trainining----------------\n",
    "params, mean_param = train(np.transpose(X_train), np.transpose(y_train.reshape((y_train.shape[0], 1))), NN_ARCHITECTURE, epochs, learning_rate, method, n_batches, batch_size, cost_type, N_nn, kernel_a, alpha_init, alpha_rate, beta, gamma, verbose, var_epsilon)\n",
    "\n",
    "#TEST SET PREDICTION AND ACCURACY OF THE FIRST PARTICLE\n",
    "Y_test_hat, _ = full_forward_propagation(np.transpose(X_test), params[0], NN_ARCHITECTURE)\n",
    "acc_test = get_accuracy_value(Y_test_hat, np.transpose(y_test.reshape((y_test.shape[0], 1))), acc_type)\n",
    "print(\"Test set accuracy measure using params[0]: {:.2f}\".format(acc_test))\n",
    "\n",
    "#TEST SET PREDICTION AND ACCURACY OF MEAN TENSOR OF NETWORK\n",
    "Y_test_hat, _ = full_forward_propagation(np.transpose(X_test), mean_param, NN_ARCHITECTURE)\n",
    "acc_test = get_accuracy_value(Y_test_hat.T, y_test, acc_type)\n",
    "print(\"Test set accuracy measure using mean_param: : {:.5f}\".format(acc_test))"
   ]
  },
  {
   "cell_type": "markdown",
   "metadata": {},
   "source": [
    "## Derivative Free -> kernel_a = 0.01, gamma1 = 0, gamma2 = 0"
   ]
  },
  {
   "cell_type": "code",
   "execution_count": null,
   "metadata": {},
   "outputs": [],
   "source": [
    "kernel_a = 0.01\n",
    "alpha_init = 0\n",
    "alpha_rate = 0\n",
    "beta = 0\n",
    "gamma = 0\n",
    "\n",
    "\n",
    "#Trainining----------------\n",
    "params, mean_param = train(np.transpose(X_train), np.transpose(y_train.reshape((y_train.shape[0], 1))), NN_ARCHITECTURE, epochs, learning_rate, method, n_batches, batch_size, cost_type, N_nn, kernel_a, alpha_init, alpha_rate, beta, gamma, verbose, var_epsilon)\n",
    "\n",
    "#TEST SET PREDICTION AND ACCURACY OF THE FIRST PARTICLE\n",
    "Y_test_hat, _ = full_forward_propagation(np.transpose(X_test), params[0], NN_ARCHITECTURE)\n",
    "acc_test = get_accuracy_value(Y_test_hat, np.transpose(y_test.reshape((y_test.shape[0], 1))), acc_type)\n",
    "print(\"Test set accuracy measure using params[0]: {:.2f}\".format(acc_test))\n",
    "\n",
    "#TEST SET PREDICTION AND ACCURACY OF MEAN TENSOR OF NETWORK\n",
    "Y_test_hat, _ = full_forward_propagation(np.transpose(X_test), mean_param, NN_ARCHITECTURE)\n",
    "acc_test = get_accuracy_value(Y_test_hat.T, y_test, acc_type)\n",
    "print(\"Test set accuracy measure using mean_param: : {:.5f}\".format(acc_test))"
   ]
  },
  {
   "cell_type": "markdown",
   "metadata": {},
   "source": [
    "## Derivative Free -> kernel_a = 0.1, gamma1 = 0, gamma2 = 0"
   ]
  },
  {
   "cell_type": "code",
   "execution_count": null,
   "metadata": {},
   "outputs": [],
   "source": [
    "kernel_a = 0.1\n",
    "alpha_init = 0\n",
    "alpha_rate = 0\n",
    "beta = 0\n",
    "gamma = 0\n",
    "\n",
    "\n",
    "#Trainining----------------\n",
    "params, mean_param = train(np.transpose(X_train), np.transpose(y_train.reshape((y_train.shape[0], 1))), NN_ARCHITECTURE, epochs, learning_rate, method, n_batches, batch_size, cost_type, N_nn, kernel_a, alpha_init, alpha_rate, beta, gamma, verbose, var_epsilon)\n",
    "\n",
    "#TEST SET PREDICTION AND ACCURACY OF THE FIRST PARTICLE\n",
    "Y_test_hat, _ = full_forward_propagation(np.transpose(X_test), params[0], NN_ARCHITECTURE)\n",
    "acc_test = get_accuracy_value(Y_test_hat, np.transpose(y_test.reshape((y_test.shape[0], 1))), acc_type)\n",
    "print(\"Test set accuracy measure using params[0]: {:.2f}\".format(acc_test))\n",
    "\n",
    "#TEST SET PREDICTION AND ACCURACY OF MEAN TENSOR OF NETWORK\n",
    "Y_test_hat, _ = full_forward_propagation(np.transpose(X_test), mean_param, NN_ARCHITECTURE)\n",
    "acc_test = get_accuracy_value(Y_test_hat.T, y_test, acc_type)\n",
    "print(\"Test set accuracy measure using mean_param: : {:.5f}\".format(acc_test))"
   ]
  },
  {
   "cell_type": "markdown",
   "metadata": {},
   "source": [
    "## Derivative Free -> kernel_a = 0.001, gamma1 = 0, gamma2 = t"
   ]
  },
  {
   "cell_type": "code",
   "execution_count": null,
   "metadata": {},
   "outputs": [],
   "source": [
    "kernel_a = 0.01\n",
    "alpha_init = 0\n",
    "alpha_rate = 1\n",
    "beta = 0\n",
    "gamma = 0\n",
    "\n",
    "\n",
    "#Trainining----------------\n",
    "params, mean_param = train(np.transpose(X_train), np.transpose(y_train.reshape((y_train.shape[0], 1))), NN_ARCHITECTURE, epochs, learning_rate, method, n_batches, batch_size, cost_type, N_nn, kernel_a, alpha_init, alpha_rate, beta, gamma, verbose, var_epsilon)\n",
    "\n",
    "#TEST SET PREDICTION AND ACCURACY OF THE FIRST PARTICLE\n",
    "Y_test_hat, _ = full_forward_propagation(np.transpose(X_test), params[0], NN_ARCHITECTURE)\n",
    "acc_test = get_accuracy_value(Y_test_hat, np.transpose(y_test.reshape((y_test.shape[0], 1))), acc_type)\n",
    "print(\"Test set accuracy measure using params[0]: {:.2f}\".format(acc_test))\n",
    "\n",
    "#TEST SET PREDICTION AND ACCURACY OF MEAN TENSOR OF NETWORK\n",
    "Y_test_hat, _ = full_forward_propagation(np.transpose(X_test), mean_param, NN_ARCHITECTURE)\n",
    "acc_test = get_accuracy_value(Y_test_hat.T, y_test, acc_type)\n",
    "print(\"Test set accuracy measure using mean_param: : {:.5f}\".format(acc_test))"
   ]
  },
  {
   "cell_type": "markdown",
   "metadata": {},
   "source": [
    "## Derivative Free -> kernel_a = 0.01, gamma1 = 1, gamma2 = 0"
   ]
  },
  {
   "cell_type": "code",
   "execution_count": null,
   "metadata": {},
   "outputs": [],
   "source": [
    "kernel_a = 0.01\n",
    "alpha_init = 0\n",
    "alpha_rate = 0\n",
    "beta = 0\n",
    "gamma = 1\n",
    "\n",
    "\n",
    "#Trainining----------------\n",
    "params, mean_param = train(np.transpose(X_train), np.transpose(y_train.reshape((y_train.shape[0], 1))), NN_ARCHITECTURE, epochs, learning_rate, method, n_batches, batch_size, cost_type, N_nn, kernel_a, alpha_init, alpha_rate, beta, gamma, verbose, var_epsilon)\n",
    "\n",
    "#TEST SET PREDICTION AND ACCURACY OF THE FIRST PARTICLE\n",
    "Y_test_hat, _ = full_forward_propagation(np.transpose(X_test), params[0], NN_ARCHITECTURE)\n",
    "acc_test = get_accuracy_value(Y_test_hat, np.transpose(y_test.reshape((y_test.shape[0], 1))), acc_type)\n",
    "print(\"Test set accuracy measure using params[0]: {:.2f}\".format(acc_test))\n",
    "\n",
    "#TEST SET PREDICTION AND ACCURACY OF MEAN TENSOR OF NETWORK\n",
    "Y_test_hat, _ = full_forward_propagation(np.transpose(X_test), mean_param, NN_ARCHITECTURE)\n",
    "acc_test = get_accuracy_value(Y_test_hat.T, y_test, acc_type)\n",
    "print(\"Test set accuracy measure using mean_param: : {:.5f}\".format(acc_test))"
   ]
  },
  {
   "cell_type": "markdown",
   "metadata": {},
   "source": [
    "## Derivative Free -> kernel_a = 0.01, gamma1 = 1, gamma2 = t"
   ]
  },
  {
   "cell_type": "code",
   "execution_count": null,
   "metadata": {
    "scrolled": true
   },
   "outputs": [],
   "source": [
    "kernel_a = 0.01\n",
    "alpha_init = 0\n",
    "alpha_rate = 1\n",
    "beta = 0\n",
    "gamma = 1\n",
    "\n",
    "\n",
    "#Trainining----------------\n",
    "params, mean_param = train(np.transpose(X_train), np.transpose(y_train.reshape((y_train.shape[0], 1))), NN_ARCHITECTURE, epochs, learning_rate, method, n_batches, batch_size, cost_type, N_nn, kernel_a, alpha_init, alpha_rate, beta, gamma, verbose, var_epsilon)\n",
    "\n",
    "#TEST SET PREDICTION AND ACCURACY OF THE FIRST PARTICLE\n",
    "Y_test_hat, _ = full_forward_propagation(np.transpose(X_test), params[0], NN_ARCHITECTURE)\n",
    "acc_test = get_accuracy_value(Y_test_hat, np.transpose(y_test.reshape((y_test.shape[0], 1))), acc_type)\n",
    "print(\"Test set accuracy measure using params[0]: {:.2f}\".format(acc_test))\n",
    "\n",
    "#TEST SET PREDICTION AND ACCURACY OF MEAN TENSOR OF NETWORK\n",
    "Y_test_hat, _ = full_forward_propagation(np.transpose(X_test), mean_param, NN_ARCHITECTURE)\n",
    "acc_test = get_accuracy_value(Y_test_hat.T, y_test, acc_type)\n",
    "print(\"Test set accuracy measure using mean_param: : {:.5f}\".format(acc_test))"
   ]
  }
 ],
 "metadata": {
  "kernelspec": {
   "display_name": "Python 3",
   "language": "python",
   "name": "python3"
  },
  "language_info": {
   "codemirror_mode": {
    "name": "ipython",
    "version": 3
   },
   "file_extension": ".py",
   "mimetype": "text/x-python",
   "name": "python",
   "nbconvert_exporter": "python",
   "pygments_lexer": "ipython3",
   "version": "3.7.1"
  }
 },
 "nbformat": 4,
 "nbformat_minor": 2
}
