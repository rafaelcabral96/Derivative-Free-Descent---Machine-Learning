{
 "cells": [
  {
   "cell_type": "markdown",
   "metadata": {},
   "source": [
    "## Example 1. Linear Regression"
   ]
  },
  {
   "cell_type": "code",
   "execution_count": 2,
   "metadata": {},
   "outputs": [],
   "source": [
    "import mlrose\n",
    "import numpy as np\n",
    "import pandas as pd\n",
    "from sklearn.model_selection import train_test_split\n",
    "from sklearn.metrics import accuracy_score\n",
    "from neural_networks import get_accuracy_value\n",
    "from sklearn.preprocessing import MinMaxScaler\n",
    "\n",
    "random_state=42"
   ]
  },
  {
   "cell_type": "code",
   "execution_count": 3,
   "metadata": {},
   "outputs": [],
   "source": [
    "#DATA------------------------------------------------------------------------\n",
    "x_batch = np.linspace(0, 2, 500)\n",
    "y_batch = 1.5 * x_batch + np.random.randn(*x_batch.shape) * 0.5 + 0.5 \n",
    "\n",
    "x_batch.resize((500,1))\n",
    "y_batch.resize((500,1))\n",
    "X_train, X_test, y_train, y_test = train_test_split(x_batch, y_batch, test_size=0.1, random_state=random_state)\n",
    "\n",
    "acc_type = 'rmse'"
   ]
  },
  {
   "cell_type": "code",
   "execution_count": 4,
   "metadata": {},
   "outputs": [
    {
     "name": "stdout",
     "output_type": "stream",
     "text": [
      "Cost Function evaluated 929 times\n",
      "The CPU time for fit was 0.12770 seconds\n",
      "0.24909166959112536\n"
     ]
    }
   ],
   "source": [
    "lr_model1 = mlrose.LinearRegression(algorithm = 'random_hill_climb', max_iters = 1000, \n",
    "                                      bias = True, learning_rate = 0.01, \n",
    "                                      early_stopping = True, clip_max = 100, max_attempts = 100, \n",
    "                                      random_state = 3)\n",
    "\n",
    "lr_model1.fit(X_train, y_train)\n",
    "\n",
    "# Predict labels for train set and assess accuracy\n",
    "y_train_pred = lr_model1.predict(X_train)\n",
    "acc_train = get_accuracy_value(y_train, y_train_pred, acc_type)\n",
    "\n",
    "print(acc_train)"
   ]
  },
  {
   "cell_type": "code",
   "execution_count": 5,
   "metadata": {},
   "outputs": [
    {
     "name": "stdout",
     "output_type": "stream",
     "text": [
      "0.21256817745642462\n"
     ]
    }
   ],
   "source": [
    "# Predict labels for test set and assess accuracy\n",
    "y_test_pred = lr_model1.predict(X_test)\n",
    "acc_test = get_accuracy_value(y_test, y_test_pred, acc_type)\n",
    "\n",
    "print(acc_test)"
   ]
  },
  {
   "cell_type": "markdown",
   "metadata": {},
   "source": [
    "## Example 2. Logistic Regression"
   ]
  },
  {
   "cell_type": "code",
   "execution_count": 6,
   "metadata": {},
   "outputs": [],
   "source": [
    "#Read Iris data\n",
    "data = pd.read_csv('Datasets/iris.data', header = None)\n",
    "data.loc[:,4] = pd.Categorical(data.loc[:,4])\n",
    "\n",
    "data_X = data.loc[:, 0:3]\n",
    "data_Y = pd.get_dummies(data.loc[:,4], prefix = 'category')\n",
    "\n",
    "data_X = data_X.values\n",
    "data_Y = data_Y.values\n",
    "\n",
    "#Split into train and test\n",
    "X_train, X_test, y_train, y_test = train_test_split(data_X, data_Y, test_size=0.1, random_state=42)\n",
    "\n",
    "#Normalize data\n",
    "scaler = MinMaxScaler()\n",
    "X_train = scaler.fit_transform(X_train)\n",
    "X_test = scaler.transform(X_test)\n",
    "\n",
    "X_train, X_test, y_train, y_test = train_test_split(data_X, data_Y, test_size=0.1, random_state=42)\n",
    "\n",
    "\n",
    "random_state=42\n",
    "\n",
    "acc_type = 'f1_score'"
   ]
  },
  {
   "cell_type": "code",
   "execution_count": 7,
   "metadata": {},
   "outputs": [
    {
     "name": "stdout",
     "output_type": "stream",
     "text": [
      "Cost Function evaluated 1481 times\n",
      "The CPU time for fit was 0.70538 seconds\n",
      "0.7058737292669877\n"
     ]
    }
   ],
   "source": [
    "lr_model1 = mlrose.LogisticRegression(algorithm = 'random_hill_climb', max_iters = 1000, \n",
    "                                      bias = True, learning_rate = 0.01, \n",
    "                                      early_stopping = True, clip_max = 5, max_attempts = 100, \n",
    "                                      random_state = 3)\n",
    "\n",
    "lr_model1.fit(X_train, y_train)\n",
    "\n",
    "# Predict labels for train set and assess accuracy\n",
    "y_train_pred = lr_model1.predict(X_train)\n",
    "acc_train = get_accuracy_value(y_train_pred, y_train, acc_type)\n",
    "\n",
    "print(acc_train)"
   ]
  },
  {
   "cell_type": "code",
   "execution_count": 8,
   "metadata": {},
   "outputs": [
    {
     "name": "stdout",
     "output_type": "stream",
     "text": [
      "0.7000000000000001\n"
     ]
    }
   ],
   "source": [
    "# Predict labels for test set and assess accuracy\n",
    "y_test_pred = lr_model1.predict(X_test)\n",
    "acc_test = get_accuracy_value(y_test, y_test_pred, acc_type)\n",
    "\n",
    "print(acc_test)"
   ]
  },
  {
   "cell_type": "code",
   "execution_count": 9,
   "metadata": {},
   "outputs": [
    {
     "name": "stdout",
     "output_type": "stream",
     "text": [
      "Cost Function evaluated 28143 times\n",
      "The CPU time for fit was 13.88867 seconds\n",
      "0.8076422764227642\n"
     ]
    }
   ],
   "source": [
    "lr_model1 = mlrose.LogisticRegression(algorithm = 'genetic_alg', max_iters = 1000, \n",
    "                                      bias = True, learning_rate = 0.01, \n",
    "                                      early_stopping = True, clip_max = 5, max_attempts = 100, \n",
    "                                      random_state = 3)\n",
    "\n",
    "lr_model1.fit(X_train, y_train)\n",
    "\n",
    "# Predict labels for train set and assess accuracy\n",
    "y_train_pred = lr_model1.predict(X_train)\n",
    "acc_train = get_accuracy_value(y_train_pred, y_train, acc_type)\n",
    "\n",
    "print(acc_train)"
   ]
  },
  {
   "cell_type": "code",
   "execution_count": 10,
   "metadata": {},
   "outputs": [
    {
     "name": "stdout",
     "output_type": "stream",
     "text": [
      "0.6103896103896104\n"
     ]
    }
   ],
   "source": [
    "# Predict labels for test set and assess accuracy\n",
    "y_test_pred = lr_model1.predict(X_test)\n",
    "acc_test = get_accuracy_value(y_test, y_test_pred, acc_type)\n",
    "\n",
    "print(acc_test)"
   ]
  },
  {
   "cell_type": "markdown",
   "metadata": {},
   "source": [
    "## Example 3. Neural Networks"
   ]
  },
  {
   "cell_type": "code",
   "execution_count": 11,
   "metadata": {},
   "outputs": [],
   "source": [
    "from sklearn.datasets import make_moons\n",
    "\n",
    "X, y = make_moons(n_samples = 1000, noise=0.2, random_state=100)\n",
    "X_train, X_test, y_train, y_test = train_test_split(X, y, test_size=0.1, random_state=42)\n",
    "\n",
    "#Normalize data\n",
    "scaler = MinMaxScaler()\n",
    "X_train = scaler.fit_transform(X_train)\n",
    "X_test = scaler.transform(X_test)\n",
    "\n",
    "acc_type = 'binary_accuracy2'"
   ]
  },
  {
   "cell_type": "code",
   "execution_count": 13,
   "metadata": {},
   "outputs": [
    {
     "name": "stdout",
     "output_type": "stream",
     "text": [
      "Cost Function evaluated 4793 times\n",
      "The CPU time for fit was 2.38290 seconds\n",
      "0.5000691358024691\n"
     ]
    }
   ],
   "source": [
    "lr_model1 = mlrose.LogisticRegression(algorithm = 'random_hill_climb', max_iters = 5000, \n",
    "                                      bias = True, learning_rate = 0.01, \n",
    "                                      early_stopping = True, clip_max = 5, max_attempts = 100, \n",
    "                                      random_state = 3)\n",
    "\n",
    "lr_model1.fit(X_train, y_train)\n",
    "\n",
    "# Predict labels for train set and assess accuracy\n",
    "y_train_pred = lr_model1.predict(X_train)\n",
    "acc_train = get_accuracy_value(y_train_pred, y_train, acc_type)\n",
    "\n",
    "print(acc_train)"
   ]
  },
  {
   "cell_type": "code",
   "execution_count": 14,
   "metadata": {},
   "outputs": [
    {
     "name": "stdout",
     "output_type": "stream",
     "text": [
      "0.5016\n"
     ]
    }
   ],
   "source": [
    "# Predict labels for test set and assess accuracy\n",
    "y_test_pred = lr_model1.predict(X_test)\n",
    "acc_test = get_accuracy_value(y_test, y_test_pred, acc_type)\n",
    "\n",
    "print(acc_test)"
   ]
  },
  {
   "cell_type": "code",
   "execution_count": 15,
   "metadata": {},
   "outputs": [
    {
     "name": "stdout",
     "output_type": "stream",
     "text": [
      "Cost Function evaluated 201208 times\n",
      "The CPU time for fit was 123.25725 seconds\n"
     ]
    },
    {
     "data": {
      "text/plain": [
       "NeuralNetwork(bias=True, clip_max=5, early_stopping=False,\n",
       "       hidden_nodes=[5, 4], is_classifier=True, learning_rate=1e-05,\n",
       "       max_iters=1000, mutation_prob=0.1, pop_size=200, restarts=0,\n",
       "       schedule=<mlrose.decay.GeomDecay object at 0x00000168EC2C8FD0>)"
      ]
     },
     "execution_count": 15,
     "metadata": {},
     "output_type": "execute_result"
    }
   ],
   "source": [
    "lr_model1 = mlrose.NeuralNetwork(hidden_nodes = [5,4], activation ='relu', \n",
    "                                 algorithm ='genetic_alg', \n",
    "                                 max_iters = 1000, bias = True, is_classifier = True, \n",
    "                                 learning_rate = 0.00001, early_stopping = False, \n",
    "                                 clip_max = 5, max_attempts = 100, random_state = 3)\n",
    "\n",
    "lr_model1.fit(X_train, y_train)"
   ]
  },
  {
   "cell_type": "code",
   "execution_count": 16,
   "metadata": {},
   "outputs": [
    {
     "name": "stdout",
     "output_type": "stream",
     "text": [
      "0.7788888888888889\n"
     ]
    }
   ],
   "source": [
    "# Predict labels for train set and assess accuracy\n",
    "y_train_pred = lr_model1.predict(X_train)\n",
    "acc_train = get_accuracy_value(np.ndarray.flatten(y_train_pred), np.ndarray.flatten(y_train), acc_type)\n",
    "\n",
    "print(acc_train)"
   ]
  },
  {
   "cell_type": "code",
   "execution_count": 17,
   "metadata": {},
   "outputs": [
    {
     "name": "stdout",
     "output_type": "stream",
     "text": [
      "0.78\n"
     ]
    }
   ],
   "source": [
    "# Predict labels for test set and assess accuracy\n",
    "y_test_pred = lr_model1.predict(X_test)\n",
    "acc_test = get_accuracy_value(np.ndarray.flatten(y_test), np.ndarray.flatten(y_test_pred), acc_type)\n",
    "\n",
    "print(acc_test)"
   ]
  }
 ],
 "metadata": {
  "kernelspec": {
   "display_name": "Python 3",
   "language": "python",
   "name": "python3"
  },
  "language_info": {
   "codemirror_mode": {
    "name": "ipython",
    "version": 3
   },
   "file_extension": ".py",
   "mimetype": "text/x-python",
   "name": "python",
   "nbconvert_exporter": "python",
   "pygments_lexer": "ipython3",
   "version": "3.7.1"
  }
 },
 "nbformat": 4,
 "nbformat_minor": 2
}
